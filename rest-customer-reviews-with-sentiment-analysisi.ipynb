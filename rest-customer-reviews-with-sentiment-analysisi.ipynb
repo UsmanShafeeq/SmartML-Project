{
 "cells": [
  {
   "cell_type": "markdown",
   "id": "b6d212d7",
   "metadata": {
    "papermill": {
     "duration": 0.009326,
     "end_time": "2024-12-11T13:47:01.283844",
     "exception": false,
     "start_time": "2024-12-11T13:47:01.274518",
     "status": "completed"
    },
    "tags": []
   },
   "source": [
    "# Restaurant Customer Reviews with (Sentiment Analysis)\n",
    "## Project Content\n",
    "\n",
    "***1. Text Preprocessing***\n",
    "\n",
    "**2. Text Visualization**\n",
    "\n",
    "**3. Sentiment Analysis**\n",
    "\n",
    "**4. Sentiment Modeling**\n"
   ]
  },
  {
   "cell_type": "code",
   "execution_count": 1,
   "id": "b8a6028c",
   "metadata": {
    "execution": {
     "iopub.execute_input": "2024-12-11T13:47:01.301960Z",
     "iopub.status.busy": "2024-12-11T13:47:01.301701Z",
     "iopub.status.idle": "2024-12-11T13:47:03.854293Z",
     "shell.execute_reply": "2024-12-11T13:47:03.853617Z"
    },
    "papermill": {
     "duration": 2.563813,
     "end_time": "2024-12-11T13:47:03.856252",
     "exception": false,
     "start_time": "2024-12-11T13:47:01.292439",
     "status": "completed"
    },
    "tags": []
   },
   "outputs": [
    {
     "name": "stderr",
     "output_type": "stream",
     "text": [
      "/opt/conda/lib/python3.10/site-packages/nltk/twitter/__init__.py:20: UserWarning: The twython library has not been installed. Some functionality from the twitter package will not be available.\n",
      "  warnings.warn(\"The twython library has not been installed. \"\n"
     ]
    }
   ],
   "source": [
    "# 1. Warnings Filtering\n",
    "from warnings import filterwarnings\n",
    "# 2. Data Visualization and Manipulation\n",
    "import matplotlib.pyplot as plt\n",
    "import numpy as np\n",
    "import pandas as pd\n",
    "# 3. Image Processing\n",
    "from PIL import Image\n",
    "# 4. Natural Language Processing (NLP)\n",
    "from nltk.corpus import stopwords\n",
    "from nltk.sentiment import SentimentIntensityAnalyzer\n",
    "# 5. Machine Learning (ML) Models\n",
    "from sklearn.ensemble import RandomForestClassifier\n",
    "from sklearn.linear_model import LogisticRegression\n",
    "# 6. Model Selection and Evaluation\n",
    "from sklearn.model_selection import cross_val_score, GridSearchCV, cross_validate\n",
    "# 7. Data Preprocessing\n",
    "from sklearn.preprocessing import LabelEncoder\n",
    "# 8. Text Processing with TextBlob\n",
    "from textblob import Word, TextBlob\n",
    "# 9. Word Clouds\n",
    "from wordcloud import WordCloud"
   ]
  },
  {
   "cell_type": "markdown",
   "id": "fd359a52",
   "metadata": {
    "papermill": {
     "duration": 0.008525,
     "end_time": "2024-12-11T13:47:03.873799",
     "exception": false,
     "start_time": "2024-12-11T13:47:03.865274",
     "status": "completed"
    },
    "tags": []
   },
   "source": [
    "## configure warnings suppression and display settings"
   ]
  },
  {
   "cell_type": "code",
   "execution_count": 2,
   "id": "d44176d5",
   "metadata": {
    "execution": {
     "iopub.execute_input": "2024-12-11T13:47:03.893406Z",
     "iopub.status.busy": "2024-12-11T13:47:03.892634Z",
     "iopub.status.idle": "2024-12-11T13:47:03.897465Z",
     "shell.execute_reply": "2024-12-11T13:47:03.896718Z"
    },
    "papermill": {
     "duration": 0.016388,
     "end_time": "2024-12-11T13:47:03.899111",
     "exception": false,
     "start_time": "2024-12-11T13:47:03.882723",
     "status": "completed"
    },
    "tags": []
   },
   "outputs": [],
   "source": [
    "filterwarnings('ignore')\n",
    "pd.set_option('display.max_columns', None)\n",
    "pd.set_option('display.width', 200)\n",
    "pd.set_option('display.float_format', lambda x: '%.2f' % x)"
   ]
  },
  {
   "cell_type": "code",
   "execution_count": 3,
   "id": "001a7b7b",
   "metadata": {
    "execution": {
     "iopub.execute_input": "2024-12-11T13:47:03.918359Z",
     "iopub.status.busy": "2024-12-11T13:47:03.918016Z",
     "iopub.status.idle": "2024-12-11T13:47:03.947432Z",
     "shell.execute_reply": "2024-12-11T13:47:03.946555Z"
    },
    "papermill": {
     "duration": 0.041213,
     "end_time": "2024-12-11T13:47:03.949236",
     "exception": false,
     "start_time": "2024-12-11T13:47:03.908023",
     "status": "completed"
    },
    "tags": []
   },
   "outputs": [
    {
     "data": {
      "text/html": [
       "<div>\n",
       "<style scoped>\n",
       "    .dataframe tbody tr th:only-of-type {\n",
       "        vertical-align: middle;\n",
       "    }\n",
       "\n",
       "    .dataframe tbody tr th {\n",
       "        vertical-align: top;\n",
       "    }\n",
       "\n",
       "    .dataframe thead th {\n",
       "        text-align: right;\n",
       "    }\n",
       "</style>\n",
       "<table border=\"1\" class=\"dataframe\">\n",
       "  <thead>\n",
       "    <tr style=\"text-align: right;\">\n",
       "      <th></th>\n",
       "      <th>Review</th>\n",
       "      <th>Liked</th>\n",
       "    </tr>\n",
       "  </thead>\n",
       "  <tbody>\n",
       "    <tr>\n",
       "      <th>0</th>\n",
       "      <td>Wow... Loved this place.</td>\n",
       "      <td>1</td>\n",
       "    </tr>\n",
       "    <tr>\n",
       "      <th>1</th>\n",
       "      <td>Crust is not good.</td>\n",
       "      <td>0</td>\n",
       "    </tr>\n",
       "    <tr>\n",
       "      <th>2</th>\n",
       "      <td>Not tasty and the texture was just nasty.</td>\n",
       "      <td>0</td>\n",
       "    </tr>\n",
       "    <tr>\n",
       "      <th>3</th>\n",
       "      <td>Stopped by during the late May bank holiday of...</td>\n",
       "      <td>1</td>\n",
       "    </tr>\n",
       "    <tr>\n",
       "      <th>4</th>\n",
       "      <td>The selection on the menu was great and so wer...</td>\n",
       "      <td>1</td>\n",
       "    </tr>\n",
       "  </tbody>\n",
       "</table>\n",
       "</div>"
      ],
      "text/plain": [
       "                                              Review  Liked\n",
       "0                           Wow... Loved this place.      1\n",
       "1                                 Crust is not good.      0\n",
       "2          Not tasty and the texture was just nasty.      0\n",
       "3  Stopped by during the late May bank holiday of...      1\n",
       "4  The selection on the menu was great and so wer...      1"
      ]
     },
     "execution_count": 3,
     "metadata": {},
     "output_type": "execute_result"
    }
   ],
   "source": [
    "df = pd.read_csv(\"../input/reviews/Restaurant_Reviews.tsv\",delimiter=\"\\t\")\n",
    "df.head()"
   ]
  },
  {
   "cell_type": "markdown",
   "id": "70a8a829",
   "metadata": {
    "papermill": {
     "duration": 0.008676,
     "end_time": "2024-12-11T13:47:03.967550",
     "exception": false,
     "start_time": "2024-12-11T13:47:03.958874",
     "status": "completed"
    },
    "tags": []
   },
   "source": [
    "# Part1. Text Preprocessing"
   ]
  },
  {
   "cell_type": "code",
   "execution_count": 4,
   "id": "dc1f589d",
   "metadata": {
    "execution": {
     "iopub.execute_input": "2024-12-11T13:47:03.986735Z",
     "iopub.status.busy": "2024-12-11T13:47:03.986379Z",
     "iopub.status.idle": "2024-12-11T13:47:03.994412Z",
     "shell.execute_reply": "2024-12-11T13:47:03.993451Z"
    },
    "papermill": {
     "duration": 0.019803,
     "end_time": "2024-12-11T13:47:03.996156",
     "exception": false,
     "start_time": "2024-12-11T13:47:03.976353",
     "status": "completed"
    },
    "tags": []
   },
   "outputs": [
    {
     "data": {
      "text/html": [
       "<div>\n",
       "<style scoped>\n",
       "    .dataframe tbody tr th:only-of-type {\n",
       "        vertical-align: middle;\n",
       "    }\n",
       "\n",
       "    .dataframe tbody tr th {\n",
       "        vertical-align: top;\n",
       "    }\n",
       "\n",
       "    .dataframe thead th {\n",
       "        text-align: right;\n",
       "    }\n",
       "</style>\n",
       "<table border=\"1\" class=\"dataframe\">\n",
       "  <thead>\n",
       "    <tr style=\"text-align: right;\">\n",
       "      <th></th>\n",
       "      <th>Review</th>\n",
       "      <th>Liked</th>\n",
       "    </tr>\n",
       "  </thead>\n",
       "  <tbody>\n",
       "    <tr>\n",
       "      <th>995</th>\n",
       "      <td>I think food should have flavor and texture an...</td>\n",
       "      <td>0</td>\n",
       "    </tr>\n",
       "    <tr>\n",
       "      <th>996</th>\n",
       "      <td>Appetite instantly gone.</td>\n",
       "      <td>0</td>\n",
       "    </tr>\n",
       "    <tr>\n",
       "      <th>997</th>\n",
       "      <td>Overall I was not impressed and would not go b...</td>\n",
       "      <td>0</td>\n",
       "    </tr>\n",
       "    <tr>\n",
       "      <th>998</th>\n",
       "      <td>The whole experience was underwhelming, and I ...</td>\n",
       "      <td>0</td>\n",
       "    </tr>\n",
       "    <tr>\n",
       "      <th>999</th>\n",
       "      <td>Then, as if I hadn't wasted enough of my life ...</td>\n",
       "      <td>0</td>\n",
       "    </tr>\n",
       "  </tbody>\n",
       "</table>\n",
       "</div>"
      ],
      "text/plain": [
       "                                                Review  Liked\n",
       "995  I think food should have flavor and texture an...      0\n",
       "996                           Appetite instantly gone.      0\n",
       "997  Overall I was not impressed and would not go b...      0\n",
       "998  The whole experience was underwhelming, and I ...      0\n",
       "999  Then, as if I hadn't wasted enough of my life ...      0"
      ]
     },
     "execution_count": 4,
     "metadata": {},
     "output_type": "execute_result"
    }
   ],
   "source": [
    "df.tail()"
   ]
  },
  {
   "cell_type": "code",
   "execution_count": 5,
   "id": "ebf188e5",
   "metadata": {
    "execution": {
     "iopub.execute_input": "2024-12-11T13:47:04.015355Z",
     "iopub.status.busy": "2024-12-11T13:47:04.015036Z",
     "iopub.status.idle": "2024-12-11T13:47:04.020510Z",
     "shell.execute_reply": "2024-12-11T13:47:04.019596Z"
    },
    "papermill": {
     "duration": 0.016976,
     "end_time": "2024-12-11T13:47:04.022144",
     "exception": false,
     "start_time": "2024-12-11T13:47:04.005168",
     "status": "completed"
    },
    "tags": []
   },
   "outputs": [
    {
     "data": {
      "text/plain": [
       "(1000, 2)"
      ]
     },
     "execution_count": 5,
     "metadata": {},
     "output_type": "execute_result"
    }
   ],
   "source": [
    "df.shape"
   ]
  },
  {
   "cell_type": "code",
   "execution_count": 6,
   "id": "a08b2329",
   "metadata": {
    "execution": {
     "iopub.execute_input": "2024-12-11T13:47:04.041594Z",
     "iopub.status.busy": "2024-12-11T13:47:04.041293Z",
     "iopub.status.idle": "2024-12-11T13:47:04.064635Z",
     "shell.execute_reply": "2024-12-11T13:47:04.063560Z"
    },
    "papermill": {
     "duration": 0.035385,
     "end_time": "2024-12-11T13:47:04.066495",
     "exception": false,
     "start_time": "2024-12-11T13:47:04.031110",
     "status": "completed"
    },
    "tags": []
   },
   "outputs": [
    {
     "name": "stdout",
     "output_type": "stream",
     "text": [
      "<class 'pandas.core.frame.DataFrame'>\n",
      "RangeIndex: 1000 entries, 0 to 999\n",
      "Data columns (total 2 columns):\n",
      " #   Column  Non-Null Count  Dtype \n",
      "---  ------  --------------  ----- \n",
      " 0   Review  1000 non-null   object\n",
      " 1   Liked   1000 non-null   int64 \n",
      "dtypes: int64(1), object(1)\n",
      "memory usage: 15.8+ KB\n"
     ]
    }
   ],
   "source": [
    "df.info()"
   ]
  },
  {
   "cell_type": "markdown",
   "id": "825affa3",
   "metadata": {
    "papermill": {
     "duration": 0.008919,
     "end_time": "2024-12-11T13:47:04.085549",
     "exception": false,
     "start_time": "2024-12-11T13:47:04.076630",
     "status": "completed"
    },
    "tags": []
   },
   "source": [
    "## Normalizing Case Folding"
   ]
  },
  {
   "cell_type": "code",
   "execution_count": 7,
   "id": "d027b4b9",
   "metadata": {
    "execution": {
     "iopub.execute_input": "2024-12-11T13:47:04.104874Z",
     "iopub.status.busy": "2024-12-11T13:47:04.104485Z",
     "iopub.status.idle": "2024-12-11T13:47:04.113666Z",
     "shell.execute_reply": "2024-12-11T13:47:04.112912Z"
    },
    "papermill": {
     "duration": 0.021026,
     "end_time": "2024-12-11T13:47:04.115504",
     "exception": false,
     "start_time": "2024-12-11T13:47:04.094478",
     "status": "completed"
    },
    "tags": []
   },
   "outputs": [
    {
     "data": {
      "text/html": [
       "<div>\n",
       "<style scoped>\n",
       "    .dataframe tbody tr th:only-of-type {\n",
       "        vertical-align: middle;\n",
       "    }\n",
       "\n",
       "    .dataframe tbody tr th {\n",
       "        vertical-align: top;\n",
       "    }\n",
       "\n",
       "    .dataframe thead th {\n",
       "        text-align: right;\n",
       "    }\n",
       "</style>\n",
       "<table border=\"1\" class=\"dataframe\">\n",
       "  <thead>\n",
       "    <tr style=\"text-align: right;\">\n",
       "      <th></th>\n",
       "      <th>Review</th>\n",
       "      <th>Liked</th>\n",
       "    </tr>\n",
       "  </thead>\n",
       "  <tbody>\n",
       "    <tr>\n",
       "      <th>0</th>\n",
       "      <td>wow... loved this place.</td>\n",
       "      <td>1</td>\n",
       "    </tr>\n",
       "    <tr>\n",
       "      <th>1</th>\n",
       "      <td>crust is not good.</td>\n",
       "      <td>0</td>\n",
       "    </tr>\n",
       "    <tr>\n",
       "      <th>2</th>\n",
       "      <td>not tasty and the texture was just nasty.</td>\n",
       "      <td>0</td>\n",
       "    </tr>\n",
       "    <tr>\n",
       "      <th>3</th>\n",
       "      <td>stopped by during the late may bank holiday of...</td>\n",
       "      <td>1</td>\n",
       "    </tr>\n",
       "    <tr>\n",
       "      <th>4</th>\n",
       "      <td>the selection on the menu was great and so wer...</td>\n",
       "      <td>1</td>\n",
       "    </tr>\n",
       "  </tbody>\n",
       "</table>\n",
       "</div>"
      ],
      "text/plain": [
       "                                              Review  Liked\n",
       "0                           wow... loved this place.      1\n",
       "1                                 crust is not good.      0\n",
       "2          not tasty and the texture was just nasty.      0\n",
       "3  stopped by during the late may bank holiday of...      1\n",
       "4  the selection on the menu was great and so wer...      1"
      ]
     },
     "execution_count": 7,
     "metadata": {},
     "output_type": "execute_result"
    }
   ],
   "source": [
    "df['Review'] = df['Review'].str.lower()\n",
    "df.head()"
   ]
  },
  {
   "cell_type": "markdown",
   "id": "be9ab8c9",
   "metadata": {
    "papermill": {
     "duration": 0.009319,
     "end_time": "2024-12-11T13:47:04.134661",
     "exception": false,
     "start_time": "2024-12-11T13:47:04.125342",
     "status": "completed"
    },
    "tags": []
   },
   "source": [
    "## Removing Punctuation and Digits"
   ]
  },
  {
   "cell_type": "code",
   "execution_count": 8,
   "id": "2216c376",
   "metadata": {
    "execution": {
     "iopub.execute_input": "2024-12-11T13:47:04.155050Z",
     "iopub.status.busy": "2024-12-11T13:47:04.154327Z",
     "iopub.status.idle": "2024-12-11T13:47:04.160203Z",
     "shell.execute_reply": "2024-12-11T13:47:04.159407Z"
    },
    "papermill": {
     "duration": 0.01815,
     "end_time": "2024-12-11T13:47:04.162020",
     "exception": false,
     "start_time": "2024-12-11T13:47:04.143870",
     "status": "completed"
    },
    "tags": []
   },
   "outputs": [],
   "source": [
    "# 1. Remove Punctuation\n",
    "df['Review'] = df['Review'].str.replace('[^\\w\\s]', '')\n",
    "# 2. Remove Digits\n",
    "df['Review'] = df['Review'].str.replace('\\d', '')"
   ]
  },
  {
   "cell_type": "markdown",
   "id": "7a07608b",
   "metadata": {
    "papermill": {
     "duration": 0.008949,
     "end_time": "2024-12-11T13:47:04.181890",
     "exception": false,
     "start_time": "2024-12-11T13:47:04.172941",
     "status": "completed"
    },
    "tags": []
   },
   "source": [
    "## Remove Stopwords"
   ]
  },
  {
   "cell_type": "code",
   "execution_count": 9,
   "id": "d4c7a0ea",
   "metadata": {
    "execution": {
     "iopub.execute_input": "2024-12-11T13:47:04.200982Z",
     "iopub.status.busy": "2024-12-11T13:47:04.200492Z",
     "iopub.status.idle": "2024-12-11T13:47:04.227707Z",
     "shell.execute_reply": "2024-12-11T13:47:04.226888Z"
    },
    "papermill": {
     "duration": 0.038768,
     "end_time": "2024-12-11T13:47:04.229627",
     "exception": false,
     "start_time": "2024-12-11T13:47:04.190859",
     "status": "completed"
    },
    "tags": []
   },
   "outputs": [],
   "source": [
    "# It allows us to get rid of commonly used words.\n",
    "sw = stopwords.words('english')\n",
    "df['Review'] = df['Review'].apply(lambda x: \" \".join(x for x in str(x).split() if x not in sw))"
   ]
  },
  {
   "cell_type": "markdown",
   "id": "6bde4a56",
   "metadata": {
    "papermill": {
     "duration": 0.008644,
     "end_time": "2024-12-11T13:47:04.247045",
     "exception": false,
     "start_time": "2024-12-11T13:47:04.238401",
     "status": "completed"
    },
    "tags": []
   },
   "source": [
    "## Removing Rare Words in Text Data"
   ]
  },
  {
   "cell_type": "code",
   "execution_count": 10,
   "id": "4fce32a6",
   "metadata": {
    "execution": {
     "iopub.execute_input": "2024-12-11T13:47:04.265874Z",
     "iopub.status.busy": "2024-12-11T13:47:04.265563Z",
     "iopub.status.idle": "2024-12-11T13:47:04.285807Z",
     "shell.execute_reply": "2024-12-11T13:47:04.284895Z"
    },
    "papermill": {
     "duration": 0.031437,
     "end_time": "2024-12-11T13:47:04.287416",
     "exception": false,
     "start_time": "2024-12-11T13:47:04.255979",
     "status": "completed"
    },
    "tags": []
   },
   "outputs": [
    {
     "name": "stdout",
     "output_type": "stream",
     "text": [
      "margaritas,        1\n",
      "things.            1\n",
      "forgetting         1\n",
      "food...and         1\n",
      "acknowledged,      1\n",
      "                  ..\n",
      "\"gold              1\n",
      "burger...          1\n",
      "yucky!!!           1\n",
      "vegas.....there    1\n",
      "replenished        1\n",
      "Name: count, Length: 250, dtype: int64\n",
      "0                                    wow... loved place.\n",
      "1                                            crust good.\n",
      "2                                   tasty texture nasty.\n",
      "3      stopped late may bank holiday rick steve recom...\n",
      "4                           selection menu great prices.\n",
      "                             ...                        \n",
      "995                   think food flavor texture lacking.\n",
      "996                             appetite instantly gone.\n",
      "997                     overall impressed would go back.\n",
      "998    whole experience underwhelming, think we'll go...\n",
      "999    then, wasted enough life there, poured salt wo...\n",
      "Name: Review, Length: 1000, dtype: object\n"
     ]
    }
   ],
   "source": [
    "# We drop words according to their frequencies.\n",
    "drops = pd.Series(' '.join(df['Review']).split()).value_counts()[-250:]\n",
    "print(drops)\n",
    "df['Review'] = df['Review'].apply(lambda x: \" \".join(x for x in x.split() if x not in drops))\n",
    "print(df['Review'])"
   ]
  },
  {
   "cell_type": "markdown",
   "id": "2405db9b",
   "metadata": {
    "papermill": {
     "duration": 0.008769,
     "end_time": "2024-12-11T13:47:04.305005",
     "exception": false,
     "start_time": "2024-12-11T13:47:04.296236",
     "status": "completed"
    },
    "tags": []
   },
   "source": [
    "## Tokenization"
   ]
  },
  {
   "cell_type": "code",
   "execution_count": 11,
   "id": "606eacda",
   "metadata": {
    "execution": {
     "iopub.execute_input": "2024-12-11T13:47:04.323760Z",
     "iopub.status.busy": "2024-12-11T13:47:04.323434Z",
     "iopub.status.idle": "2024-12-11T13:47:04.467197Z",
     "shell.execute_reply": "2024-12-11T13:47:04.466356Z"
    },
    "papermill": {
     "duration": 0.15519,
     "end_time": "2024-12-11T13:47:04.469085",
     "exception": false,
     "start_time": "2024-12-11T13:47:04.313895",
     "status": "completed"
    },
    "tags": []
   },
   "outputs": [
    {
     "data": {
      "text/plain": [
       "0                                  [wow, loved, place]\n",
       "1                                        [crust, good]\n",
       "2                              [tasty, texture, nasty]\n",
       "3    [stopped, late, may, bank, holiday, rick, stev...\n",
       "4                     [selection, menu, great, prices]\n",
       "Name: Review, dtype: object"
      ]
     },
     "execution_count": 11,
     "metadata": {},
     "output_type": "execute_result"
    }
   ],
   "source": [
    "# break sentences into parts\n",
    "df[\"Review\"].apply(lambda x: TextBlob(x).words).head()"
   ]
  },
  {
   "cell_type": "code",
   "execution_count": 12,
   "id": "7b26e290",
   "metadata": {
    "execution": {
     "iopub.execute_input": "2024-12-11T13:47:04.488928Z",
     "iopub.status.busy": "2024-12-11T13:47:04.488659Z",
     "iopub.status.idle": "2024-12-11T13:47:07.079259Z",
     "shell.execute_reply": "2024-12-11T13:47:07.078127Z"
    },
    "papermill": {
     "duration": 2.60275,
     "end_time": "2024-12-11T13:47:07.081401",
     "exception": false,
     "start_time": "2024-12-11T13:47:04.478651",
     "status": "completed"
    },
    "tags": []
   },
   "outputs": [
    {
     "name": "stdout",
     "output_type": "stream",
     "text": [
      "[nltk_data] Downloading package wordnet to /usr/share/nltk_data...\n",
      "[nltk_data]   Package wordnet is already up-to-date!\n",
      "[nltk_data] Downloading package omw-1.4 to /usr/share/nltk_data...\n",
      "[nltk_data] Downloading package brown to /usr/share/nltk_data...\r\n",
      "[nltk_data]   Package brown is already up-to-date!\r\n",
      "[nltk_data] Downloading package punkt to /usr/share/nltk_data...\r\n",
      "[nltk_data]   Package punkt is already up-to-date!\r\n",
      "[nltk_data] Downloading package wordnet to /usr/share/nltk_data...\r\n",
      "[nltk_data]   Package wordnet is already up-to-date!\r\n",
      "[nltk_data] Downloading package averaged_perceptron_tagger to\r\n",
      "[nltk_data]     /usr/share/nltk_data...\r\n",
      "[nltk_data]   Package averaged_perceptron_tagger is already up-to-\r\n",
      "[nltk_data]       date!\r\n",
      "[nltk_data] Downloading package conll2000 to /usr/share/nltk_data...\r\n",
      "[nltk_data]   Package conll2000 is already up-to-date!\r\n",
      "[nltk_data] Downloading package movie_reviews to\r\n",
      "[nltk_data]     /usr/share/nltk_data...\r\n",
      "[nltk_data]   Package movie_reviews is already up-to-date!\r\n",
      "Finished.\r\n"
     ]
    }
   ],
   "source": [
    "import nltk\n",
    "\n",
    "nltk.download('wordnet')\n",
    "nltk.download('omw-1.4')\n",
    "!python -m textblob.download_corpora\n"
   ]
  },
  {
   "cell_type": "code",
   "execution_count": 13,
   "id": "0536ce2b",
   "metadata": {
    "execution": {
     "iopub.execute_input": "2024-12-11T13:47:07.102720Z",
     "iopub.status.busy": "2024-12-11T13:47:07.102357Z",
     "iopub.status.idle": "2024-12-11T13:47:07.109997Z",
     "shell.execute_reply": "2024-12-11T13:47:07.109144Z"
    },
    "papermill": {
     "duration": 0.020384,
     "end_time": "2024-12-11T13:47:07.111724",
     "exception": false,
     "start_time": "2024-12-11T13:47:07.091340",
     "status": "completed"
    },
    "tags": []
   },
   "outputs": [
    {
     "data": {
      "text/plain": [
       "0                                  wow... loved place.\n",
       "1                                          crust good.\n",
       "2                                 tasty texture nasty.\n",
       "3    stopped late may bank holiday rick steve recom...\n",
       "4                         selection menu great prices.\n",
       "Name: Review, dtype: object"
      ]
     },
     "execution_count": 13,
     "metadata": {},
     "output_type": "execute_result"
    }
   ],
   "source": [
    "df[\"Review\"].head()"
   ]
  },
  {
   "cell_type": "markdown",
   "id": "c7bcf150",
   "metadata": {
    "papermill": {
     "duration": 0.009404,
     "end_time": "2024-12-11T13:47:07.130553",
     "exception": false,
     "start_time": "2024-12-11T13:47:07.121149",
     "status": "completed"
    },
    "tags": []
   },
   "source": [
    "## Calculate the term frequencies"
   ]
  },
  {
   "cell_type": "code",
   "execution_count": 14,
   "id": "f172f6d0",
   "metadata": {
    "execution": {
     "iopub.execute_input": "2024-12-11T13:47:07.150910Z",
     "iopub.status.busy": "2024-12-11T13:47:07.150648Z",
     "iopub.status.idle": "2024-12-11T13:47:07.752766Z",
     "shell.execute_reply": "2024-12-11T13:47:07.751949Z"
    },
    "papermill": {
     "duration": 0.61435,
     "end_time": "2024-12-11T13:47:07.754508",
     "exception": false,
     "start_time": "2024-12-11T13:47:07.140158",
     "status": "completed"
    },
    "tags": []
   },
   "outputs": [
    {
     "data": {
      "text/html": [
       "<div>\n",
       "<style scoped>\n",
       "    .dataframe tbody tr th:only-of-type {\n",
       "        vertical-align: middle;\n",
       "    }\n",
       "\n",
       "    .dataframe tbody tr th {\n",
       "        vertical-align: top;\n",
       "    }\n",
       "\n",
       "    .dataframe thead th {\n",
       "        text-align: right;\n",
       "    }\n",
       "</style>\n",
       "<table border=\"1\" class=\"dataframe\">\n",
       "  <thead>\n",
       "    <tr style=\"text-align: right;\">\n",
       "      <th></th>\n",
       "      <th>words</th>\n",
       "      <th>tf</th>\n",
       "    </tr>\n",
       "  </thead>\n",
       "  <tbody>\n",
       "    <tr>\n",
       "      <th>0</th>\n",
       "      <td>wow</td>\n",
       "      <td>3.00</td>\n",
       "    </tr>\n",
       "    <tr>\n",
       "      <th>1</th>\n",
       "      <td>loved</td>\n",
       "      <td>10.00</td>\n",
       "    </tr>\n",
       "    <tr>\n",
       "      <th>2</th>\n",
       "      <td>place</td>\n",
       "      <td>106.00</td>\n",
       "    </tr>\n",
       "    <tr>\n",
       "      <th>3</th>\n",
       "      <td>crust</td>\n",
       "      <td>2.00</td>\n",
       "    </tr>\n",
       "    <tr>\n",
       "      <th>4</th>\n",
       "      <td>good</td>\n",
       "      <td>95.00</td>\n",
       "    </tr>\n",
       "  </tbody>\n",
       "</table>\n",
       "</div>"
      ],
      "text/plain": [
       "   words     tf\n",
       "0    wow   3.00\n",
       "1  loved  10.00\n",
       "2  place 106.00\n",
       "3  crust   2.00\n",
       "4   good  95.00"
      ]
     },
     "execution_count": 14,
     "metadata": {},
     "output_type": "execute_result"
    }
   ],
   "source": [
    "import pandas as pd\n",
    "import string\n",
    "\n",
    "# Define a function to clean and preprocess the text\n",
    "def clean_text(text):\n",
    "    # Convert to lowercase\n",
    "    text = text.lower()\n",
    "    # Remove punctuation\n",
    "    text = text.translate(str.maketrans('', '', string.punctuation))\n",
    "    return text\n",
    "\n",
    "# Apply the cleaning function\n",
    "df['Review'] = df['Review'].apply(clean_text)\n",
    "\n",
    "# Calculate term frequencies\n",
    "tf = df[\"Review\"].apply(lambda x: pd.value_counts(x.split(\" \"))).sum(axis=0).reset_index()\n",
    "tf.columns = [\"words\", \"tf\"]\n",
    "\n",
    "# Show the result\n",
    "tf.head()\n"
   ]
  },
  {
   "cell_type": "code",
   "execution_count": 15,
   "id": "0e7edf39",
   "metadata": {
    "execution": {
     "iopub.execute_input": "2024-12-11T13:47:07.774970Z",
     "iopub.status.busy": "2024-12-11T13:47:07.774688Z",
     "iopub.status.idle": "2024-12-11T13:47:07.779684Z",
     "shell.execute_reply": "2024-12-11T13:47:07.778893Z"
    },
    "papermill": {
     "duration": 0.017022,
     "end_time": "2024-12-11T13:47:07.781252",
     "exception": false,
     "start_time": "2024-12-11T13:47:07.764230",
     "status": "completed"
    },
    "tags": []
   },
   "outputs": [
    {
     "data": {
      "text/plain": [
       "(1839, 2)"
      ]
     },
     "execution_count": 15,
     "metadata": {},
     "output_type": "execute_result"
    }
   ],
   "source": [
    "tf.shape"
   ]
  },
  {
   "cell_type": "code",
   "execution_count": 16,
   "id": "9271bbb3",
   "metadata": {
    "execution": {
     "iopub.execute_input": "2024-12-11T13:47:07.801067Z",
     "iopub.status.busy": "2024-12-11T13:47:07.800818Z",
     "iopub.status.idle": "2024-12-11T13:47:07.806274Z",
     "shell.execute_reply": "2024-12-11T13:47:07.805649Z"
    },
    "papermill": {
     "duration": 0.017212,
     "end_time": "2024-12-11T13:47:07.807859",
     "exception": false,
     "start_time": "2024-12-11T13:47:07.790647",
     "status": "completed"
    },
    "tags": []
   },
   "outputs": [
    {
     "data": {
      "text/plain": [
       "1839"
      ]
     },
     "execution_count": 16,
     "metadata": {},
     "output_type": "execute_result"
    }
   ],
   "source": [
    "tf[\"words\"].nunique()"
   ]
  },
  {
   "cell_type": "code",
   "execution_count": 17,
   "id": "3632089b",
   "metadata": {
    "execution": {
     "iopub.execute_input": "2024-12-11T13:47:07.828958Z",
     "iopub.status.busy": "2024-12-11T13:47:07.828712Z",
     "iopub.status.idle": "2024-12-11T13:47:07.839249Z",
     "shell.execute_reply": "2024-12-11T13:47:07.838588Z"
    },
    "papermill": {
     "duration": 0.022587,
     "end_time": "2024-12-11T13:47:07.840809",
     "exception": false,
     "start_time": "2024-12-11T13:47:07.818222",
     "status": "completed"
    },
    "tags": []
   },
   "outputs": [
    {
     "data": {
      "text/plain": [
       "count   1839.00\n",
       "mean       3.03\n",
       "std        6.59\n",
       "min        1.00\n",
       "5%         1.00\n",
       "10%        1.00\n",
       "25%        1.00\n",
       "50%        1.00\n",
       "75%        3.00\n",
       "80%        3.00\n",
       "90%        6.00\n",
       "95%       10.00\n",
       "99%       24.62\n",
       "max      123.00\n",
       "Name: tf, dtype: float64"
      ]
     },
     "execution_count": 17,
     "metadata": {},
     "output_type": "execute_result"
    }
   ],
   "source": [
    "tf[\"tf\"].describe([0.05, 0.10, 0.25, 0.50, 0.75, 0.80, 0.90, 0.95, 0.99]).T"
   ]
  },
  {
   "cell_type": "code",
   "execution_count": 18,
   "id": "9c45af85",
   "metadata": {
    "execution": {
     "iopub.execute_input": "2024-12-11T13:47:07.860919Z",
     "iopub.status.busy": "2024-12-11T13:47:07.860700Z",
     "iopub.status.idle": "2024-12-11T13:47:07.870767Z",
     "shell.execute_reply": "2024-12-11T13:47:07.870064Z"
    },
    "papermill": {
     "duration": 0.021781,
     "end_time": "2024-12-11T13:47:07.872185",
     "exception": false,
     "start_time": "2024-12-11T13:47:07.850404",
     "status": "completed"
    },
    "tags": []
   },
   "outputs": [
    {
     "data": {
      "text/html": [
       "<div>\n",
       "<style scoped>\n",
       "    .dataframe tbody tr th:only-of-type {\n",
       "        vertical-align: middle;\n",
       "    }\n",
       "\n",
       "    .dataframe tbody tr th {\n",
       "        vertical-align: top;\n",
       "    }\n",
       "\n",
       "    .dataframe thead th {\n",
       "        text-align: right;\n",
       "    }\n",
       "</style>\n",
       "<table border=\"1\" class=\"dataframe\">\n",
       "  <thead>\n",
       "    <tr style=\"text-align: right;\">\n",
       "      <th></th>\n",
       "      <th>words</th>\n",
       "      <th>tf</th>\n",
       "    </tr>\n",
       "  </thead>\n",
       "  <tbody>\n",
       "    <tr>\n",
       "      <th>83</th>\n",
       "      <td>food</td>\n",
       "      <td>123.00</td>\n",
       "    </tr>\n",
       "    <tr>\n",
       "      <th>2</th>\n",
       "      <td>place</td>\n",
       "      <td>106.00</td>\n",
       "    </tr>\n",
       "    <tr>\n",
       "      <th>4</th>\n",
       "      <td>good</td>\n",
       "      <td>95.00</td>\n",
       "    </tr>\n",
       "    <tr>\n",
       "      <th>42</th>\n",
       "      <td>service</td>\n",
       "      <td>83.00</td>\n",
       "    </tr>\n",
       "    <tr>\n",
       "      <th>19</th>\n",
       "      <td>great</td>\n",
       "      <td>70.00</td>\n",
       "    </tr>\n",
       "    <tr>\n",
       "      <th>...</th>\n",
       "      <td>...</td>\n",
       "      <td>...</td>\n",
       "    </tr>\n",
       "    <tr>\n",
       "      <th>1807</th>\n",
       "      <td>tops</td>\n",
       "      <td>1.00</td>\n",
       "    </tr>\n",
       "    <tr>\n",
       "      <th>1808</th>\n",
       "      <td>brownish</td>\n",
       "      <td>1.00</td>\n",
       "    </tr>\n",
       "    <tr>\n",
       "      <th>1809</th>\n",
       "      <td>obviously</td>\n",
       "      <td>1.00</td>\n",
       "    </tr>\n",
       "    <tr>\n",
       "      <th>1810</th>\n",
       "      <td>movies</td>\n",
       "      <td>1.00</td>\n",
       "    </tr>\n",
       "    <tr>\n",
       "      <th>1811</th>\n",
       "      <td>ha</td>\n",
       "      <td>1.00</td>\n",
       "    </tr>\n",
       "  </tbody>\n",
       "</table>\n",
       "<p>1839 rows × 2 columns</p>\n",
       "</div>"
      ],
      "text/plain": [
       "          words     tf\n",
       "83         food 123.00\n",
       "2         place 106.00\n",
       "4          good  95.00\n",
       "42      service  83.00\n",
       "19        great  70.00\n",
       "...         ...    ...\n",
       "1807       tops   1.00\n",
       "1808   brownish   1.00\n",
       "1809  obviously   1.00\n",
       "1810     movies   1.00\n",
       "1811         ha   1.00\n",
       "\n",
       "[1839 rows x 2 columns]"
      ]
     },
     "execution_count": 18,
     "metadata": {},
     "output_type": "execute_result"
    }
   ],
   "source": [
    "# sorted term frequencies (TF)\n",
    "tf.sort_values(\"tf\", ascending = False)"
   ]
  },
  {
   "cell_type": "markdown",
   "id": "58d7d8d0",
   "metadata": {
    "papermill": {
     "duration": 0.009845,
     "end_time": "2024-12-11T13:47:07.891767",
     "exception": false,
     "start_time": "2024-12-11T13:47:07.881922",
     "status": "completed"
    },
    "tags": []
   },
   "source": [
    "## Barplot"
   ]
  },
  {
   "cell_type": "code",
   "execution_count": 19,
   "id": "9da4483d",
   "metadata": {
    "execution": {
     "iopub.execute_input": "2024-12-11T13:47:07.912843Z",
     "iopub.status.busy": "2024-12-11T13:47:07.912359Z",
     "iopub.status.idle": "2024-12-11T13:47:08.197945Z",
     "shell.execute_reply": "2024-12-11T13:47:08.197071Z"
    },
    "papermill": {
     "duration": 0.297852,
     "end_time": "2024-12-11T13:47:08.199640",
     "exception": false,
     "start_time": "2024-12-11T13:47:07.901788",
     "status": "completed"
    },
    "tags": []
   },
   "outputs": [
    {
     "data": {
      "image/png": "[encoded data removed]",
      "text/plain": [
       "<Figure size 640x480 with 1 Axes>"
      ]
     },
     "metadata": {},
     "output_type": "display_data"
    }
   ],
   "source": [
    "tf[tf[\"tf\"] > 25].plot.bar(x=\"words\", y=\"tf\")\n",
    "plt.show()"
   ]
  },
  {
   "cell_type": "markdown",
   "id": "41b48fe2",
   "metadata": {
    "papermill": {
     "duration": 0.010126,
     "end_time": "2024-12-11T13:47:08.220215",
     "exception": false,
     "start_time": "2024-12-11T13:47:08.210089",
     "status": "completed"
    },
    "tags": []
   },
   "source": [
    "## Wordcloud"
   ]
  },
  {
   "cell_type": "code",
   "execution_count": 20,
   "id": "244a5fbc",
   "metadata": {
    "execution": {
     "iopub.execute_input": "2024-12-11T13:47:08.241938Z",
     "iopub.status.busy": "2024-12-11T13:47:08.241668Z",
     "iopub.status.idle": "2024-12-11T13:47:09.039376Z",
     "shell.execute_reply": "2024-12-11T13:47:09.038631Z"
    },
    "papermill": {
     "duration": 0.810564,
     "end_time": "2024-12-11T13:47:09.041007",
     "exception": false,
     "start_time": "2024-12-11T13:47:08.230443",
     "status": "completed"
    },
    "tags": []
   },
   "outputs": [
    {
     "data": {
      "image/png": "[encoded data removed]",
      "text/plain": [
       "<Figure size 640x480 with 1 Axes>"
      ]
     },
     "metadata": {},
     "output_type": "display_data"
    },
    {
     "data": {
      "image/png": "[encoded data removed]",
      "text/plain": [
       "<Figure size 640x480 with 1 Axes>"
      ]
     },
     "metadata": {},
     "output_type": "display_data"
    },
    {
     "data": {
      "text/plain": [
       "<wordcloud.wordcloud.WordCloud at 0x7cbab2306a40>"
      ]
     },
     "execution_count": 20,
     "metadata": {},
     "output_type": "execute_result"
    }
   ],
   "source": [
    "text = \" \".join(i for i in df.Review)\n",
    "wordcloud = WordCloud().generate(text)\n",
    "plt.imshow(wordcloud, interpolation=\"bilinear\")\n",
    "plt.axis(\"off\")\n",
    "plt.show()\n",
    "\n",
    "\n",
    "wordcloud = WordCloud(max_font_size=50,\n",
    "                      max_words=100,\n",
    "                      background_color=\"white\").generate(text)\n",
    "plt.figure()\n",
    "plt.imshow(wordcloud, interpolation=\"bilinear\")\n",
    "plt.axis(\"off\")\n",
    "plt.show()\n",
    "\n",
    "wordcloud.to_file(\"wordcloud.png\")"
   ]
  },
  {
   "cell_type": "markdown",
   "id": "8868ea47",
   "metadata": {
    "papermill": {
     "duration": 0.014444,
     "end_time": "2024-12-11T13:47:09.070958",
     "exception": false,
     "start_time": "2024-12-11T13:47:09.056514",
     "status": "completed"
    },
    "tags": []
   },
   "source": [
    "# 3. Sentiment Analysis"
   ]
  },
  {
   "cell_type": "code",
   "execution_count": 21,
   "id": "05caaba2",
   "metadata": {
    "execution": {
     "iopub.execute_input": "2024-12-11T13:47:09.101063Z",
     "iopub.status.busy": "2024-12-11T13:47:09.100785Z",
     "iopub.status.idle": "2024-12-11T13:47:09.125694Z",
     "shell.execute_reply": "2024-12-11T13:47:09.124833Z"
    },
    "papermill": {
     "duration": 0.041991,
     "end_time": "2024-12-11T13:47:09.127427",
     "exception": false,
     "start_time": "2024-12-11T13:47:09.085436",
     "status": "completed"
    },
    "tags": []
   },
   "outputs": [
    {
     "data": {
      "text/plain": [
       "{'neg': 0.0, 'neu': 0.423, 'pos': 0.577, 'compound': 0.6249}"
      ]
     },
     "execution_count": 21,
     "metadata": {},
     "output_type": "execute_result"
    }
   ],
   "source": [
    "sia = SentimentIntensityAnalyzer()\n",
    "sia.polarity_scores(\"The food was awesome\")"
   ]
  },
  {
   "cell_type": "code",
   "execution_count": 22,
   "id": "75b2bc15",
   "metadata": {
    "execution": {
     "iopub.execute_input": "2024-12-11T13:47:09.158040Z",
     "iopub.status.busy": "2024-12-11T13:47:09.157361Z",
     "iopub.status.idle": "2024-12-11T13:47:09.164498Z",
     "shell.execute_reply": "2024-12-11T13:47:09.163779Z"
    },
    "papermill": {
     "duration": 0.023926,
     "end_time": "2024-12-11T13:47:09.165988",
     "exception": false,
     "start_time": "2024-12-11T13:47:09.142062",
     "status": "completed"
    },
    "tags": []
   },
   "outputs": [
    {
     "data": {
      "text/plain": [
       "0                                        WOW LOVED PLACE\n",
       "1                                             CRUST GOOD\n",
       "2                                    TASTY TEXTURE NASTY\n",
       "3      STOPPED LATE MAY BANK HOLIDAY RICK STEVE RECOM...\n",
       "4                            SELECTION MENU GREAT PRICES\n",
       "                             ...                        \n",
       "995                    THINK FOOD FLAVOR TEXTURE LACKING\n",
       "996                              APPETITE INSTANTLY GONE\n",
       "997                      OVERALL IMPRESSED WOULD GO BACK\n",
       "998    WHOLE EXPERIENCE UNDERWHELMING THINK WELL GO N...\n",
       "999    THEN WASTED ENOUGH LIFE THERE POURED SALT WOUN...\n",
       "Name: Review, Length: 1000, dtype: object"
      ]
     },
     "execution_count": 22,
     "metadata": {},
     "output_type": "execute_result"
    }
   ],
   "source": [
    "df[\"Review\"].apply(lambda x: x.upper())"
   ]
  },
  {
   "cell_type": "code",
   "execution_count": 23,
   "id": "f3927d8c",
   "metadata": {
    "execution": {
     "iopub.execute_input": "2024-12-11T13:47:09.197330Z",
     "iopub.status.busy": "2024-12-11T13:47:09.197082Z",
     "iopub.status.idle": "2024-12-11T13:47:09.204640Z",
     "shell.execute_reply": "2024-12-11T13:47:09.203948Z"
    },
    "papermill": {
     "duration": 0.025015,
     "end_time": "2024-12-11T13:47:09.206411",
     "exception": false,
     "start_time": "2024-12-11T13:47:09.181396",
     "status": "completed"
    },
    "tags": []
   },
   "outputs": [
    {
     "data": {
      "text/plain": [
       "0    {'neg': 0.0, 'neu': 0.115, 'pos': 0.885, 'comp...\n",
       "1    {'neg': 0.0, 'neu': 0.256, 'pos': 0.744, 'comp...\n",
       "2    {'neg': 0.643, 'neu': 0.357, 'pos': 0.0, 'comp...\n",
       "3    {'neg': 0.123, 'neu': 0.452, 'pos': 0.426, 'co...\n",
       "4    {'neg': 0.0, 'neu': 0.423, 'pos': 0.577, 'comp...\n",
       "5    {'neg': 0.645, 'neu': 0.215, 'pos': 0.14, 'com...\n",
       "6    {'neg': 0.0, 'neu': 0.465, 'pos': 0.535, 'comp...\n",
       "7    {'neg': 0.0, 'neu': 0.63, 'pos': 0.37, 'compou...\n",
       "8    {'neg': 0.0, 'neu': 0.328, 'pos': 0.672, 'comp...\n",
       "9    {'neg': 0.0, 'neu': 0.196, 'pos': 0.804, 'comp...\n",
       "Name: Review, dtype: object"
      ]
     },
     "execution_count": 23,
     "metadata": {},
     "output_type": "execute_result"
    }
   ],
   "source": [
    "df[\"Review\"][0:10].apply(lambda x: sia.polarity_scores(x))"
   ]
  },
  {
   "cell_type": "code",
   "execution_count": 24,
   "id": "a3357ddb",
   "metadata": {
    "execution": {
     "iopub.execute_input": "2024-12-11T13:47:09.238263Z",
     "iopub.status.busy": "2024-12-11T13:47:09.238042Z",
     "iopub.status.idle": "2024-12-11T13:47:09.314338Z",
     "shell.execute_reply": "2024-12-11T13:47:09.313770Z"
    },
    "papermill": {
     "duration": 0.094506,
     "end_time": "2024-12-11T13:47:09.316077",
     "exception": false,
     "start_time": "2024-12-11T13:47:09.221571",
     "status": "completed"
    },
    "tags": []
   },
   "outputs": [],
   "source": [
    "df[\"polarity_score\"] = df[\"Review\"].apply(lambda x: sia.polarity_scores(x)[\"compound\"])"
   ]
  },
  {
   "cell_type": "code",
   "execution_count": 25,
   "id": "5460ce0a",
   "metadata": {
    "execution": {
     "iopub.execute_input": "2024-12-11T13:47:09.347928Z",
     "iopub.status.busy": "2024-12-11T13:47:09.347684Z",
     "iopub.status.idle": "2024-12-11T13:47:09.355059Z",
     "shell.execute_reply": "2024-12-11T13:47:09.354348Z"
    },
    "papermill": {
     "duration": 0.024658,
     "end_time": "2024-12-11T13:47:09.356512",
     "exception": false,
     "start_time": "2024-12-11T13:47:09.331854",
     "status": "completed"
    },
    "tags": []
   },
   "outputs": [
    {
     "data": {
      "text/html": [
       "<div>\n",
       "<style scoped>\n",
       "    .dataframe tbody tr th:only-of-type {\n",
       "        vertical-align: middle;\n",
       "    }\n",
       "\n",
       "    .dataframe tbody tr th {\n",
       "        vertical-align: top;\n",
       "    }\n",
       "\n",
       "    .dataframe thead th {\n",
       "        text-align: right;\n",
       "    }\n",
       "</style>\n",
       "<table border=\"1\" class=\"dataframe\">\n",
       "  <thead>\n",
       "    <tr style=\"text-align: right;\">\n",
       "      <th></th>\n",
       "      <th>Review</th>\n",
       "      <th>Liked</th>\n",
       "      <th>polarity_score</th>\n",
       "    </tr>\n",
       "  </thead>\n",
       "  <tbody>\n",
       "    <tr>\n",
       "      <th>0</th>\n",
       "      <td>wow loved place</td>\n",
       "      <td>1</td>\n",
       "      <td>0.83</td>\n",
       "    </tr>\n",
       "    <tr>\n",
       "      <th>1</th>\n",
       "      <td>crust good</td>\n",
       "      <td>0</td>\n",
       "      <td>0.44</td>\n",
       "    </tr>\n",
       "    <tr>\n",
       "      <th>2</th>\n",
       "      <td>tasty texture nasty</td>\n",
       "      <td>0</td>\n",
       "      <td>-0.56</td>\n",
       "    </tr>\n",
       "    <tr>\n",
       "      <th>3</th>\n",
       "      <td>stopped late may bank holiday rick steve recom...</td>\n",
       "      <td>1</td>\n",
       "      <td>0.69</td>\n",
       "    </tr>\n",
       "    <tr>\n",
       "      <th>4</th>\n",
       "      <td>selection menu great prices</td>\n",
       "      <td>1</td>\n",
       "      <td>0.62</td>\n",
       "    </tr>\n",
       "  </tbody>\n",
       "</table>\n",
       "</div>"
      ],
      "text/plain": [
       "                                              Review  Liked  polarity_score\n",
       "0                                    wow loved place      1            0.83\n",
       "1                                         crust good      0            0.44\n",
       "2                                tasty texture nasty      0           -0.56\n",
       "3  stopped late may bank holiday rick steve recom...      1            0.69\n",
       "4                        selection menu great prices      1            0.62"
      ]
     },
     "execution_count": 25,
     "metadata": {},
     "output_type": "execute_result"
    }
   ],
   "source": [
    "df.head()"
   ]
  },
  {
   "cell_type": "markdown",
   "id": "68fe938c",
   "metadata": {
    "papermill": {
     "duration": 0.014876,
     "end_time": "2024-12-11T13:47:09.386237",
     "exception": false,
     "start_time": "2024-12-11T13:47:09.371361",
     "status": "completed"
    },
    "tags": []
   },
   "source": [
    "# 4. Sentiment Modeling"
   ]
  },
  {
   "cell_type": "code",
   "execution_count": 26,
   "id": "70edff0e",
   "metadata": {
    "execution": {
     "iopub.execute_input": "2024-12-11T13:47:09.417714Z",
     "iopub.status.busy": "2024-12-11T13:47:09.417444Z",
     "iopub.status.idle": "2024-12-11T13:47:09.424068Z",
     "shell.execute_reply": "2024-12-11T13:47:09.423274Z"
    },
    "papermill": {
     "duration": 0.024518,
     "end_time": "2024-12-11T13:47:09.426029",
     "exception": false,
     "start_time": "2024-12-11T13:47:09.401511",
     "status": "completed"
    },
    "tags": []
   },
   "outputs": [
    {
     "data": {
      "text/plain": [
       "0    pos\n",
       "1    pos\n",
       "2    neg\n",
       "3    pos\n",
       "4    pos\n",
       "5    neg\n",
       "6    pos\n",
       "7    pos\n",
       "8    pos\n",
       "9    pos\n",
       "Name: Review, dtype: object"
      ]
     },
     "execution_count": 26,
     "metadata": {},
     "output_type": "execute_result"
    }
   ],
   "source": [
    "# Create the target\n",
    "df[\"Review\"][0:10].apply(lambda x: \"pos\" if sia.polarity_scores(x)[\"compound\"] > 0 else \"neg\")"
   ]
  },
  {
   "cell_type": "code",
   "execution_count": 27,
   "id": "cb2937c1",
   "metadata": {
    "execution": {
     "iopub.execute_input": "2024-12-11T13:47:09.457703Z",
     "iopub.status.busy": "2024-12-11T13:47:09.457031Z",
     "iopub.status.idle": "2024-12-11T13:47:09.537078Z",
     "shell.execute_reply": "2024-12-11T13:47:09.536364Z"
    },
    "papermill": {
     "duration": 0.097484,
     "end_time": "2024-12-11T13:47:09.538678",
     "exception": false,
     "start_time": "2024-12-11T13:47:09.441194",
     "status": "completed"
    },
    "tags": []
   },
   "outputs": [
    {
     "data": {
      "text/html": [
       "<div>\n",
       "<style scoped>\n",
       "    .dataframe tbody tr th:only-of-type {\n",
       "        vertical-align: middle;\n",
       "    }\n",
       "\n",
       "    .dataframe tbody tr th {\n",
       "        vertical-align: top;\n",
       "    }\n",
       "\n",
       "    .dataframe thead th {\n",
       "        text-align: right;\n",
       "    }\n",
       "</style>\n",
       "<table border=\"1\" class=\"dataframe\">\n",
       "  <thead>\n",
       "    <tr style=\"text-align: right;\">\n",
       "      <th></th>\n",
       "      <th>Review</th>\n",
       "      <th>Liked</th>\n",
       "      <th>polarity_score</th>\n",
       "      <th>sentiment_label</th>\n",
       "    </tr>\n",
       "  </thead>\n",
       "  <tbody>\n",
       "    <tr>\n",
       "      <th>0</th>\n",
       "      <td>wow loved place</td>\n",
       "      <td>1</td>\n",
       "      <td>0.83</td>\n",
       "      <td>pos</td>\n",
       "    </tr>\n",
       "    <tr>\n",
       "      <th>1</th>\n",
       "      <td>crust good</td>\n",
       "      <td>0</td>\n",
       "      <td>0.44</td>\n",
       "      <td>pos</td>\n",
       "    </tr>\n",
       "    <tr>\n",
       "      <th>2</th>\n",
       "      <td>tasty texture nasty</td>\n",
       "      <td>0</td>\n",
       "      <td>-0.56</td>\n",
       "      <td>neg</td>\n",
       "    </tr>\n",
       "    <tr>\n",
       "      <th>3</th>\n",
       "      <td>stopped late may bank holiday rick steve recom...</td>\n",
       "      <td>1</td>\n",
       "      <td>0.69</td>\n",
       "      <td>pos</td>\n",
       "    </tr>\n",
       "    <tr>\n",
       "      <th>4</th>\n",
       "      <td>selection menu great prices</td>\n",
       "      <td>1</td>\n",
       "      <td>0.62</td>\n",
       "      <td>pos</td>\n",
       "    </tr>\n",
       "    <tr>\n",
       "      <th>5</th>\n",
       "      <td>getting angry want damn pho</td>\n",
       "      <td>0</td>\n",
       "      <td>-0.69</td>\n",
       "      <td>neg</td>\n",
       "    </tr>\n",
       "    <tr>\n",
       "      <th>6</th>\n",
       "      <td>honeslty taste fresh</td>\n",
       "      <td>0</td>\n",
       "      <td>0.32</td>\n",
       "      <td>pos</td>\n",
       "    </tr>\n",
       "    <tr>\n",
       "      <th>7</th>\n",
       "      <td>potatoes like rubber could tell made ahead tim...</td>\n",
       "      <td>0</td>\n",
       "      <td>0.57</td>\n",
       "      <td>pos</td>\n",
       "    </tr>\n",
       "    <tr>\n",
       "      <th>8</th>\n",
       "      <td>fries great too</td>\n",
       "      <td>1</td>\n",
       "      <td>0.62</td>\n",
       "      <td>pos</td>\n",
       "    </tr>\n",
       "    <tr>\n",
       "      <th>9</th>\n",
       "      <td>great touch</td>\n",
       "      <td>1</td>\n",
       "      <td>0.62</td>\n",
       "      <td>pos</td>\n",
       "    </tr>\n",
       "    <tr>\n",
       "      <th>10</th>\n",
       "      <td>service prompt</td>\n",
       "      <td>1</td>\n",
       "      <td>0.00</td>\n",
       "      <td>neg</td>\n",
       "    </tr>\n",
       "    <tr>\n",
       "      <th>11</th>\n",
       "      <td>would go back</td>\n",
       "      <td>0</td>\n",
       "      <td>0.00</td>\n",
       "      <td>neg</td>\n",
       "    </tr>\n",
       "    <tr>\n",
       "      <th>12</th>\n",
       "      <td>cashier care ever say still ended wayyy overpr...</td>\n",
       "      <td>0</td>\n",
       "      <td>0.49</td>\n",
       "      <td>pos</td>\n",
       "    </tr>\n",
       "    <tr>\n",
       "      <th>13</th>\n",
       "      <td>tried cape cod ravoli chicken cranberrymmmm</td>\n",
       "      <td>1</td>\n",
       "      <td>0.00</td>\n",
       "      <td>neg</td>\n",
       "    </tr>\n",
       "    <tr>\n",
       "      <th>14</th>\n",
       "      <td>disgusted pretty sure human hair</td>\n",
       "      <td>0</td>\n",
       "      <td>0.27</td>\n",
       "      <td>pos</td>\n",
       "    </tr>\n",
       "    <tr>\n",
       "      <th>15</th>\n",
       "      <td>shocked signs indicate cash only</td>\n",
       "      <td>0</td>\n",
       "      <td>-0.32</td>\n",
       "      <td>neg</td>\n",
       "    </tr>\n",
       "    <tr>\n",
       "      <th>16</th>\n",
       "      <td>highly recommended</td>\n",
       "      <td>1</td>\n",
       "      <td>0.27</td>\n",
       "      <td>pos</td>\n",
       "    </tr>\n",
       "    <tr>\n",
       "      <th>17</th>\n",
       "      <td>waitress little slow service</td>\n",
       "      <td>0</td>\n",
       "      <td>0.00</td>\n",
       "      <td>neg</td>\n",
       "    </tr>\n",
       "    <tr>\n",
       "      <th>18</th>\n",
       "      <td>place worth time let alone vegas</td>\n",
       "      <td>0</td>\n",
       "      <td>-0.03</td>\n",
       "      <td>neg</td>\n",
       "    </tr>\n",
       "    <tr>\n",
       "      <th>19</th>\n",
       "      <td>like all</td>\n",
       "      <td>0</td>\n",
       "      <td>0.36</td>\n",
       "      <td>pos</td>\n",
       "    </tr>\n",
       "  </tbody>\n",
       "</table>\n",
       "</div>"
      ],
      "text/plain": [
       "                                               Review  Liked  polarity_score sentiment_label\n",
       "0                                     wow loved place      1            0.83             pos\n",
       "1                                          crust good      0            0.44             pos\n",
       "2                                 tasty texture nasty      0           -0.56             neg\n",
       "3   stopped late may bank holiday rick steve recom...      1            0.69             pos\n",
       "4                         selection menu great prices      1            0.62             pos\n",
       "5                         getting angry want damn pho      0           -0.69             neg\n",
       "6                                honeslty taste fresh      0            0.32             pos\n",
       "7   potatoes like rubber could tell made ahead tim...      0            0.57             pos\n",
       "8                                     fries great too      1            0.62             pos\n",
       "9                                         great touch      1            0.62             pos\n",
       "10                                     service prompt      1            0.00             neg\n",
       "11                                      would go back      0            0.00             neg\n",
       "12  cashier care ever say still ended wayyy overpr...      0            0.49             pos\n",
       "13        tried cape cod ravoli chicken cranberrymmmm      1            0.00             neg\n",
       "14                   disgusted pretty sure human hair      0            0.27             pos\n",
       "15                   shocked signs indicate cash only      0           -0.32             neg\n",
       "16                                 highly recommended      1            0.27             pos\n",
       "17                       waitress little slow service      0            0.00             neg\n",
       "18                   place worth time let alone vegas      0           -0.03             neg\n",
       "19                                           like all      0            0.36             pos"
      ]
     },
     "execution_count": 27,
     "metadata": {},
     "output_type": "execute_result"
    }
   ],
   "source": [
    "# Apply for all data\n",
    "df[\"sentiment_label\"] = df[\"Review\"].apply(lambda x: \"pos\" if sia.polarity_scores(x)[\"compound\"] > 0 else \"neg\")\n",
    "df.head(20)"
   ]
  },
  {
   "cell_type": "code",
   "execution_count": 28,
   "id": "feefe219",
   "metadata": {
    "execution": {
     "iopub.execute_input": "2024-12-11T13:47:09.570576Z",
     "iopub.status.busy": "2024-12-11T13:47:09.570326Z",
     "iopub.status.idle": "2024-12-11T13:47:09.578132Z",
     "shell.execute_reply": "2024-12-11T13:47:09.577325Z"
    },
    "papermill": {
     "duration": 0.025317,
     "end_time": "2024-12-11T13:47:09.579585",
     "exception": false,
     "start_time": "2024-12-11T13:47:09.554268",
     "status": "completed"
    },
    "tags": []
   },
   "outputs": [
    {
     "data": {
      "text/plain": [
       "sentiment_label\n",
       "neg   0.23\n",
       "pos   0.73\n",
       "Name: Liked, dtype: float64"
      ]
     },
     "execution_count": 28,
     "metadata": {},
     "output_type": "execute_result"
    }
   ],
   "source": [
    "df.groupby(\"sentiment_label\")[\"Liked\"].mean()"
   ]
  },
  {
   "cell_type": "code",
   "execution_count": 29,
   "id": "dd9263af",
   "metadata": {
    "execution": {
     "iopub.execute_input": "2024-12-11T13:47:09.610821Z",
     "iopub.status.busy": "2024-12-11T13:47:09.610551Z",
     "iopub.status.idle": "2024-12-11T13:47:09.614625Z",
     "shell.execute_reply": "2024-12-11T13:47:09.613823Z"
    },
    "papermill": {
     "duration": 0.021412,
     "end_time": "2024-12-11T13:47:09.616103",
     "exception": false,
     "start_time": "2024-12-11T13:47:09.594691",
     "status": "completed"
    },
    "tags": []
   },
   "outputs": [],
   "source": [
    "df[\"sentiment_label\"] = LabelEncoder().fit_transform(df[\"sentiment_label\"])"
   ]
  },
  {
   "cell_type": "code",
   "execution_count": 30,
   "id": "a855c047",
   "metadata": {
    "execution": {
     "iopub.execute_input": "2024-12-11T13:47:09.647499Z",
     "iopub.status.busy": "2024-12-11T13:47:09.647076Z",
     "iopub.status.idle": "2024-12-11T13:47:09.650664Z",
     "shell.execute_reply": "2024-12-11T13:47:09.649896Z"
    },
    "papermill": {
     "duration": 0.021082,
     "end_time": "2024-12-11T13:47:09.652217",
     "exception": false,
     "start_time": "2024-12-11T13:47:09.631135",
     "status": "completed"
    },
    "tags": []
   },
   "outputs": [],
   "source": [
    "X = df[\"Review\"]\n",
    "y = df[\"sentiment_label\"]"
   ]
  },
  {
   "cell_type": "markdown",
   "id": "649e3286",
   "metadata": {
    "papermill": {
     "duration": 0.01493,
     "end_time": "2024-12-11T13:47:09.682633",
     "exception": false,
     "start_time": "2024-12-11T13:47:09.667703",
     "status": "completed"
    },
    "tags": []
   },
   "source": [
    "## Count Vectors"
   ]
  },
  {
   "cell_type": "code",
   "execution_count": 31,
   "id": "589bc986",
   "metadata": {
    "execution": {
     "iopub.execute_input": "2024-12-11T13:47:09.713767Z",
     "iopub.status.busy": "2024-12-11T13:47:09.713504Z",
     "iopub.status.idle": "2024-12-11T13:47:09.735140Z",
     "shell.execute_reply": "2024-12-11T13:47:09.734247Z"
    },
    "papermill": {
     "duration": 0.039102,
     "end_time": "2024-12-11T13:47:09.736752",
     "exception": false,
     "start_time": "2024-12-11T13:47:09.697650",
     "status": "completed"
    },
    "tags": []
   },
   "outputs": [
    {
     "name": "stdout",
     "output_type": "stream",
     "text": [
      "['30' '30s' '34ths' '35' '40']\n",
      "[[0 0 0 ... 0 0 0]\n",
      " [0 0 0 ... 0 0 0]\n",
      " [0 0 0 ... 0 0 0]\n",
      " [0 0 0 ... 0 0 0]\n",
      " [0 0 0 ... 0 0 0]]\n"
     ]
    }
   ],
   "source": [
    "from sklearn.feature_extraction.text import CountVectorizer\n",
    "\n",
    "# Initialize the CountVectorizer\n",
    "vectorizer = CountVectorizer()\n",
    "\n",
    "# Fit the vectorizer to the data (X) and transform the text data into a term count matrix\n",
    "X_count = vectorizer.fit_transform(X)\n",
    "\n",
    "# Get the feature names (terms)\n",
    "feature_names = vectorizer.get_feature_names_out()\n",
    "\n",
    "# Get the term count values for a range of terms (10th to 15th feature)\n",
    "term_counts = X_count.toarray()[10:15]\n",
    "\n",
    "# Display feature names and their corresponding term count values\n",
    "print(feature_names[10:15])\n",
    "print(term_counts)\n"
   ]
  },
  {
   "cell_type": "markdown",
   "id": "5ba0ad85",
   "metadata": {
    "papermill": {
     "duration": 0.015133,
     "end_time": "2024-12-11T13:47:09.767335",
     "exception": false,
     "start_time": "2024-12-11T13:47:09.752202",
     "status": "completed"
    },
    "tags": []
   },
   "source": [
    "## TF-IDF\n",
    "\n"
   ]
  },
  {
   "cell_type": "code",
   "execution_count": 32,
   "id": "cf2645e9",
   "metadata": {
    "execution": {
     "iopub.execute_input": "2024-12-11T13:47:09.799189Z",
     "iopub.status.busy": "2024-12-11T13:47:09.798498Z",
     "iopub.status.idle": "2024-12-11T13:47:09.816816Z",
     "shell.execute_reply": "2024-12-11T13:47:09.816024Z"
    },
    "papermill": {
     "duration": 0.035813,
     "end_time": "2024-12-11T13:47:09.818335",
     "exception": false,
     "start_time": "2024-12-11T13:47:09.782522",
     "status": "completed"
    },
    "tags": []
   },
   "outputs": [],
   "source": [
    "# It is the weight factor calculated with the statistical method that shows the importance of a term in the document.\n",
    "from sklearn.feature_extraction.text import TfidfVectorizer\n",
    "tf_idf_word_vectorizer = TfidfVectorizer()\n",
    "X_tf_idf_word = tf_idf_word_vectorizer.fit_transform(X)"
   ]
  },
  {
   "cell_type": "code",
   "execution_count": 33,
   "id": "261bf73e",
   "metadata": {
    "execution": {
     "iopub.execute_input": "2024-12-11T13:47:09.850776Z",
     "iopub.status.busy": "2024-12-11T13:47:09.850336Z",
     "iopub.status.idle": "2024-12-11T13:47:09.862998Z",
     "shell.execute_reply": "2024-12-11T13:47:09.862410Z"
    },
    "papermill": {
     "duration": 0.030486,
     "end_time": "2024-12-11T13:47:09.864477",
     "exception": false,
     "start_time": "2024-12-11T13:47:09.833991",
     "status": "completed"
    },
    "tags": []
   },
   "outputs": [],
   "source": [
    "tf_idf_ngram_vectorizer = TfidfVectorizer(ngram_range=(2, 3))\n",
    "X_tf_idf_ngram = tf_idf_word_vectorizer.fit_transform(X)"
   ]
  },
  {
   "cell_type": "markdown",
   "id": "99094fd9",
   "metadata": {
    "papermill": {
     "duration": 0.01497,
     "end_time": "2024-12-11T13:47:09.894692",
     "exception": false,
     "start_time": "2024-12-11T13:47:09.879722",
     "status": "completed"
    },
    "tags": []
   },
   "source": [
    "## Logistic Regression"
   ]
  },
  {
   "cell_type": "code",
   "execution_count": 34,
   "id": "68de9ef5",
   "metadata": {
    "execution": {
     "iopub.execute_input": "2024-12-11T13:47:09.925988Z",
     "iopub.status.busy": "2024-12-11T13:47:09.925763Z",
     "iopub.status.idle": "2024-12-11T13:47:09.991832Z",
     "shell.execute_reply": "2024-12-11T13:47:09.991074Z"
    },
    "papermill": {
     "duration": 0.083625,
     "end_time": "2024-12-11T13:47:09.993418",
     "exception": false,
     "start_time": "2024-12-11T13:47:09.909793",
     "status": "completed"
    },
    "tags": []
   },
   "outputs": [
    {
     "data": {
      "text/plain": [
       "0.833"
      ]
     },
     "execution_count": 34,
     "metadata": {},
     "output_type": "execute_result"
    }
   ],
   "source": [
    "log_model = LogisticRegression().fit(X_tf_idf_word, y)\n",
    "\n",
    "cross_val_score(log_model,\n",
    "                X_tf_idf_word,\n",
    "                y, scoring=\"accuracy\",\n",
    "                cv=5).mean()"
   ]
  },
  {
   "cell_type": "code",
   "execution_count": 35,
   "id": "4dda66be",
   "metadata": {
    "execution": {
     "iopub.execute_input": "2024-12-11T13:47:10.025106Z",
     "iopub.status.busy": "2024-12-11T13:47:10.024861Z",
     "iopub.status.idle": "2024-12-11T13:47:10.031712Z",
     "shell.execute_reply": "2024-12-11T13:47:10.030928Z"
    },
    "papermill": {
     "duration": 0.024342,
     "end_time": "2024-12-11T13:47:10.033310",
     "exception": false,
     "start_time": "2024-12-11T13:47:10.008968",
     "status": "completed"
    },
    "tags": []
   },
   "outputs": [
    {
     "data": {
      "text/plain": [
       "0    love place\n",
       "dtype: object"
      ]
     },
     "execution_count": 35,
     "metadata": {},
     "output_type": "execute_result"
    }
   ],
   "source": [
    "random_review = pd.Series(df[\"Review\"].sample(1).values)\n",
    "random_review"
   ]
  },
  {
   "cell_type": "code",
   "execution_count": 36,
   "id": "e32b5d7e",
   "metadata": {
    "execution": {
     "iopub.execute_input": "2024-12-11T13:47:10.065481Z",
     "iopub.status.busy": "2024-12-11T13:47:10.065235Z",
     "iopub.status.idle": "2024-12-11T13:47:10.078336Z",
     "shell.execute_reply": "2024-12-11T13:47:10.077674Z"
    },
    "papermill": {
     "duration": 0.031068,
     "end_time": "2024-12-11T13:47:10.079890",
     "exception": false,
     "start_time": "2024-12-11T13:47:10.048822",
     "status": "completed"
    },
    "tags": []
   },
   "outputs": [
    {
     "data": {
      "text/plain": [
       "array([1])"
      ]
     },
     "execution_count": 36,
     "metadata": {},
     "output_type": "execute_result"
    }
   ],
   "source": [
    "new_comment = CountVectorizer().fit(X).transform(random_review)\n",
    "log_model.predict(new_comment)"
   ]
  },
  {
   "cell_type": "markdown",
   "id": "3d128fcd",
   "metadata": {
    "papermill": {
     "duration": 0.015561,
     "end_time": "2024-12-11T13:47:10.111065",
     "exception": false,
     "start_time": "2024-12-11T13:47:10.095504",
     "status": "completed"
    },
    "tags": []
   },
   "source": [
    "## Random Forests"
   ]
  },
  {
   "cell_type": "code",
   "execution_count": 37,
   "id": "91540269",
   "metadata": {
    "execution": {
     "iopub.execute_input": "2024-12-11T13:47:10.143378Z",
     "iopub.status.busy": "2024-12-11T13:47:10.143134Z",
     "iopub.status.idle": "2024-12-11T13:47:13.460511Z",
     "shell.execute_reply": "2024-12-11T13:47:13.459246Z"
    },
    "papermill": {
     "duration": 3.33587,
     "end_time": "2024-12-11T13:47:13.462495",
     "exception": false,
     "start_time": "2024-12-11T13:47:10.126625",
     "status": "completed"
    },
    "tags": []
   },
   "outputs": [
    {
     "name": "stdout",
     "output_type": "stream",
     "text": [
      "0.8390000000000001\n"
     ]
    }
   ],
   "source": [
    "rf_model = RandomForestClassifier().fit(X_count, y)\n",
    "print(cross_val_score(rf_model, X_count, y, cv=5, n_jobs=-1).mean())"
   ]
  },
  {
   "cell_type": "markdown",
   "id": "1d834206",
   "metadata": {
    "papermill": {
     "duration": 0.015899,
     "end_time": "2024-12-11T13:47:13.494827",
     "exception": false,
     "start_time": "2024-12-11T13:47:13.478928",
     "status": "completed"
    },
    "tags": []
   },
   "source": [
    "*TF-IDF Word-Level*"
   ]
  },
  {
   "cell_type": "code",
   "execution_count": 38,
   "id": "09a13308",
   "metadata": {
    "execution": {
     "iopub.execute_input": "2024-12-11T13:47:13.532974Z",
     "iopub.status.busy": "2024-12-11T13:47:13.532551Z",
     "iopub.status.idle": "2024-12-11T13:47:15.257430Z",
     "shell.execute_reply": "2024-12-11T13:47:15.256459Z"
    },
    "papermill": {
     "duration": 1.748413,
     "end_time": "2024-12-11T13:47:15.259153",
     "exception": false,
     "start_time": "2024-12-11T13:47:13.510740",
     "status": "completed"
    },
    "tags": []
   },
   "outputs": [
    {
     "name": "stdout",
     "output_type": "stream",
     "text": [
      "0.836\n"
     ]
    }
   ],
   "source": [
    "rf_model = RandomForestClassifier().fit(X_tf_idf_word, y)\n",
    "print(cross_val_score(rf_model, X_tf_idf_word, y, cv=5, n_jobs=-1).mean())"
   ]
  },
  {
   "cell_type": "markdown",
   "id": "647f8628",
   "metadata": {
    "papermill": {
     "duration": 0.015506,
     "end_time": "2024-12-11T13:47:15.291352",
     "exception": false,
     "start_time": "2024-12-11T13:47:15.275846",
     "status": "completed"
    },
    "tags": []
   },
   "source": [
    "## Model Saving and Loading"
   ]
  },
  {
   "cell_type": "code",
   "execution_count": 39,
   "id": "7cbd35c2",
   "metadata": {
    "execution": {
     "iopub.execute_input": "2024-12-11T13:47:15.324068Z",
     "iopub.status.busy": "2024-12-11T13:47:15.323803Z",
     "iopub.status.idle": "2024-12-11T13:47:15.330097Z",
     "shell.execute_reply": "2024-12-11T13:47:15.329490Z"
    },
    "papermill": {
     "duration": 0.025024,
     "end_time": "2024-12-11T13:47:15.331883",
     "exception": false,
     "start_time": "2024-12-11T13:47:15.306859",
     "status": "completed"
    },
    "tags": []
   },
   "outputs": [],
   "source": [
    "import joblib\n",
    "\n",
    "# Save the model\n",
    "joblib.dump(log_model, 'logistic_regression_model.pkl')\n",
    "\n",
    "# Load the model\n",
    "log_model_loaded = joblib.load('logistic_regression_model.pkl')\n"
   ]
  },
  {
   "cell_type": "markdown",
   "id": "f7accc48",
   "metadata": {
    "papermill": {
     "duration": 0.015466,
     "end_time": "2024-12-11T13:47:15.363782",
     "exception": false,
     "start_time": "2024-12-11T13:47:15.348316",
     "status": "completed"
    },
    "tags": []
   },
   "source": [
    "## Using the Model for Prediction"
   ]
  },
  {
   "cell_type": "code",
   "execution_count": 40,
   "id": "81313439",
   "metadata": {
    "execution": {
     "iopub.execute_input": "2024-12-11T13:47:15.396578Z",
     "iopub.status.busy": "2024-12-11T13:47:15.395889Z",
     "iopub.status.idle": "2024-12-11T13:47:15.402794Z",
     "shell.execute_reply": "2024-12-11T13:47:15.401939Z"
    },
    "papermill": {
     "duration": 0.02504,
     "end_time": "2024-12-11T13:47:15.404419",
     "exception": false,
     "start_time": "2024-12-11T13:47:15.379379",
     "status": "completed"
    },
    "tags": []
   },
   "outputs": [
    {
     "name": "stdout",
     "output_type": "stream",
     "text": [
      "[0]\n"
     ]
    }
   ],
   "source": [
    "# Predicting new reviews\n",
    "new_review = pd.Series([\"sangria half glass wine full 12 ridiculous\"])\n",
    "new_review_transformed = tf_idf_word_vectorizer.transform(new_review)\n",
    "\n",
    "prediction = log_model_loaded.predict(new_review_transformed)\n",
    "print(prediction)\n"
   ]
  },
  {
   "cell_type": "markdown",
   "id": "0b136489",
   "metadata": {
    "papermill": {
     "duration": 0.015472,
     "end_time": "2024-12-11T13:47:15.471439",
     "exception": false,
     "start_time": "2024-12-11T13:47:15.455967",
     "status": "completed"
    },
    "tags": []
   },
   "source": [
    "## Hyperparameter Tuning"
   ]
  },
  {
   "cell_type": "code",
   "execution_count": 41,
   "id": "4981f9b5",
   "metadata": {
    "execution": {
     "iopub.execute_input": "2024-12-11T13:47:15.503921Z",
     "iopub.status.busy": "2024-12-11T13:47:15.503557Z",
     "iopub.status.idle": "2024-12-11T13:47:15.508662Z",
     "shell.execute_reply": "2024-12-11T13:47:15.507830Z"
    },
    "papermill": {
     "duration": 0.023333,
     "end_time": "2024-12-11T13:47:15.510346",
     "exception": false,
     "start_time": "2024-12-11T13:47:15.487013",
     "status": "completed"
    },
    "tags": []
   },
   "outputs": [],
   "source": [
    "from sklearn.model_selection import RandomizedSearchCV, cross_validate\n",
    "from sklearn.ensemble import RandomForestClassifier\n",
    "import joblib\n",
    "\n",
    "# Define Random Forest parameters for RandomizedSearchCV\n",
    "rf_params_random = {\n",
    "    \"max_depth\": [5, 8, None],\n",
    "    \"max_features\": ['sqrt', 5, 7],  # Changed 'auto' to 'sqrt'\n",
    "    \"min_samples_split\": [2, 5, 8, 20],\n",
    "    \"n_estimators\": [100, 200, 500]\n",
    "}\n",
    "\n",
    "# Initialize the RandomForest model\n",
    "rf_model = RandomForestClassifier(random_state=17)"
   ]
  },
  {
   "cell_type": "code",
   "execution_count": 42,
   "id": "fc35dcca",
   "metadata": {
    "execution": {
     "iopub.execute_input": "2024-12-11T13:47:15.542753Z",
     "iopub.status.busy": "2024-12-11T13:47:15.542472Z",
     "iopub.status.idle": "2024-12-11T13:47:29.230090Z",
     "shell.execute_reply": "2024-12-11T13:47:29.229069Z"
    },
    "papermill": {
     "duration": 13.705672,
     "end_time": "2024-12-11T13:47:29.231789",
     "exception": false,
     "start_time": "2024-12-11T13:47:15.526117",
     "status": "completed"
    },
    "tags": []
   },
   "outputs": [
    {
     "name": "stdout",
     "output_type": "stream",
     "text": [
      "Fitting 5 folds for each of 10 candidates, totalling 50 fits\n",
      "Best Parameters: {'n_estimators': 500, 'min_samples_split': 20, 'max_features': 'sqrt', 'max_depth': None}\n"
     ]
    }
   ],
   "source": [
    "# Initialize and fit RandomizedSearchCV\n",
    "rf_random_search = RandomizedSearchCV(rf_model, rf_params_random, cv=5, n_jobs=-1, verbose=True)\n",
    "rf_random_search.fit(X_count, y)\n",
    "\n",
    "# Get the best parameters from the RandomizedSearchCV\n",
    "rf_best_random = rf_random_search.best_params_\n",
    "print(f\"Best Parameters: {rf_best_random}\")"
   ]
  },
  {
   "cell_type": "markdown",
   "id": "f2fdb83a",
   "metadata": {
    "papermill": {
     "duration": 0.016234,
     "end_time": "2024-12-11T13:47:29.265362",
     "exception": false,
     "start_time": "2024-12-11T13:47:29.249128",
     "status": "completed"
    },
    "tags": []
   },
   "source": [
    "## Model Evaluation"
   ]
  },
  {
   "cell_type": "code",
   "execution_count": 43,
   "id": "a67251fd",
   "metadata": {
    "execution": {
     "iopub.execute_input": "2024-12-11T13:47:29.299147Z",
     "iopub.status.busy": "2024-12-11T13:47:29.298872Z",
     "iopub.status.idle": "2024-12-11T13:47:40.656102Z",
     "shell.execute_reply": "2024-12-11T13:47:40.655103Z"
    },
    "papermill": {
     "duration": 11.376535,
     "end_time": "2024-12-11T13:47:40.657985",
     "exception": false,
     "start_time": "2024-12-11T13:47:29.281450",
     "status": "completed"
    },
    "tags": []
   },
   "outputs": [
    {
     "name": "stdout",
     "output_type": "stream",
     "text": [
      "Mean Accuracy: 0.8460000000000001\n",
      "Mean F1 Score: 0.8462975185579464\n",
      "Mean ROC AUC: 0.9190150342573558\n"
     ]
    }
   ],
   "source": [
    "# Train the final Random Forest model with the best-found parameters\n",
    "rf_final_random = rf_model.set_params(**rf_best_random).fit(X_count, y)\n",
    "\n",
    "# Evaluate the final model using cross-validation\n",
    "cv_results = cross_validate(rf_final_random, X_count, y, cv=5, scoring=[\"accuracy\", \"f1\", \"roc_auc\"])\n",
    "\n",
    "# Output the cross-validation results\n",
    "print(f\"Mean Accuracy: {cv_results['test_accuracy'].mean()}\")\n",
    "print(f\"Mean F1 Score: {cv_results['test_f1'].mean()}\")\n",
    "print(f\"Mean ROC AUC: {cv_results['test_roc_auc'].mean()}\")"
   ]
  },
  {
   "cell_type": "markdown",
   "id": "7ccd7e88",
   "metadata": {
    "papermill": {
     "duration": 0.016051,
     "end_time": "2024-12-11T13:47:40.690387",
     "exception": false,
     "start_time": "2024-12-11T13:47:40.674336",
     "status": "completed"
    },
    "tags": []
   },
   "source": [
    "# Model Saving and Loading (for Random Forest)"
   ]
  },
  {
   "cell_type": "code",
   "execution_count": 44,
   "id": "a40c4d5f",
   "metadata": {
    "execution": {
     "iopub.execute_input": "2024-12-11T13:47:40.724151Z",
     "iopub.status.busy": "2024-12-11T13:47:40.723325Z",
     "iopub.status.idle": "2024-12-11T13:47:41.049947Z",
     "shell.execute_reply": "2024-12-11T13:47:41.049006Z"
    },
    "papermill": {
     "duration": 0.345613,
     "end_time": "2024-12-11T13:47:41.052004",
     "exception": false,
     "start_time": "2024-12-11T13:47:40.706391",
     "status": "completed"
    },
    "tags": []
   },
   "outputs": [],
   "source": [
    "# Save the model\n",
    "joblib.dump(rf_final_random, 'random_forest_model.pkl')\n",
    "\n",
    "# Load the model\n",
    "rf_loaded = joblib.load('random_forest_model.pkl')\n",
    "\n"
   ]
  },
  {
   "cell_type": "markdown",
   "id": "6b640946",
   "metadata": {
    "papermill": {
     "duration": 0.015868,
     "end_time": "2024-12-11T13:47:41.085014",
     "exception": false,
     "start_time": "2024-12-11T13:47:41.069146",
     "status": "completed"
    },
    "tags": []
   },
   "source": [
    "# Predicting new reviews with the loaded Random Forest model\n"
   ]
  },
  {
   "cell_type": "code",
   "execution_count": 45,
   "id": "37210415",
   "metadata": {
    "execution": {
     "iopub.execute_input": "2024-12-11T13:47:41.118740Z",
     "iopub.status.busy": "2024-12-11T13:47:41.118459Z",
     "iopub.status.idle": "2024-12-11T13:47:41.145329Z",
     "shell.execute_reply": "2024-12-11T13:47:41.144504Z"
    },
    "papermill": {
     "duration": 0.046201,
     "end_time": "2024-12-11T13:47:41.147351",
     "exception": false,
     "start_time": "2024-12-11T13:47:41.101150",
     "status": "completed"
    },
    "tags": []
   },
   "outputs": [
    {
     "name": "stdout",
     "output_type": "stream",
     "text": [
      "Prediction for new review: [0]\n"
     ]
    }
   ],
   "source": [
    "new_review = pd.Series([\"sangria half glass wine full 12 ridiculous\"])\n",
    "new_review_transformed = tf_idf_word_vectorizer.transform(new_review)\n",
    "\n",
    "# Predict using the loaded model\n",
    "prediction = rf_loaded.predict(new_review_transformed)\n",
    "print(f\"Prediction for new review: {prediction}\")"
   ]
  }
 ],
 "metadata": {
  "kaggle": {
   "accelerator": "gpu",
   "dataSources": [
    {
     "datasetId": 277570,
     "sourceId": 573766,
     "sourceType": "datasetVersion"
    }
   ],
   "dockerImageVersionId": 30805,
   "isGpuEnabled": true,
   "isInternetEnabled": true,
   "language": "python",
   "sourceType": "notebook"
  },
  "kernelspec": {
   "display_name": "Python 3",
   "language": "python",
   "name": "python3"
  },
  "language_info": {
   "codemirror_mode": {
    "name": "ipython",
    "version": 3
   },
   "file_extension": ".py",
   "mimetype": "text/x-python",
   "name": "python",
   "nbconvert_exporter": "python",
   "pygments_lexer": "ipython3",
   "version": "3.10.14"
  },
  "papermill": {
   "default_parameters": {},
   "duration": 44.89346,
   "end_time": "2024-12-11T13:47:43.782378",
   "environment_variables": {},
   "exception": null,
   "input_path": "__notebook__.ipynb",
   "output_path": "__notebook__.ipynb",
   "parameters": {},
   "start_time": "2024-12-11T13:46:58.888918",
   "version": "2.3.3"
  }
 },
 "nbformat": 4,
 "nbformat_minor": 5
}
